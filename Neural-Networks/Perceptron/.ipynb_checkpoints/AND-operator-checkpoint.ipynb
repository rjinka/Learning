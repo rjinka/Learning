{
 "cells": [
  {
   "cell_type": "code",
   "execution_count": null,
   "id": "8306237e-67dd-4981-833a-10d821bf2439",
   "metadata": {},
   "outputs": [
    {
     "name": "stdout",
     "output_type": "stream",
     "text": [
      "Requirement already satisfied: numpy in c:\\users\\jinka\\anaconda3\\lib\\site-packages (1.26.4)\n",
      "Note: you may need to restart the kernel to use updated packages.\n"
     ]
    },
    {
     "name": "stderr",
     "output_type": "stream",
     "text": [
      "WARNING: Ignoring invalid distribution ~ympy (C:\\Users\\jinka\\anaconda3\\Lib\\site-packages)\n",
      "WARNING: Ignoring invalid distribution ~ympy (C:\\Users\\jinka\\anaconda3\\Lib\\site-packages)\n",
      "WARNING: Ignoring invalid distribution ~ympy (C:\\Users\\jinka\\anaconda3\\Lib\\site-packages)\n",
      "\n",
      "[notice] A new release of pip is available: 25.1.1 -> 25.2\n",
      "[notice] To update, run: python.exe -m pip install --upgrade pip\n"
     ]
    }
   ],
   "source": [
    "%pip install numpy\n",
    "%pip install tensorflow\n",
    "\n",
    "import numpy as np\n",
    "import tensorflow as tf"
   ]
  },
  {
   "cell_type": "code",
   "execution_count": null,
   "id": "726fcc09-91e8-4671-b2f9-b3536f8800c3",
   "metadata": {},
   "outputs": [],
   "source": [
    "# AND operator truth table\n",
    "training_set = np.array([[0,0,0],[0,1,0], [1,0,0], [1,1,1]])"
   ]
  },
  {
   "cell_type": "code",
   "execution_count": null,
   "id": "33f244dd-23bb-4de2-b214-2d8d9502c1d6",
   "metadata": {},
   "outputs": [],
   "source": [
    "testing_set = np.array([[0,0,0],[0,1,0], [1,0,0], [1,1,1]])"
   ]
  },
  {
   "cell_type": "code",
   "execution_count": null,
   "id": "04e830f0-150d-46da-ab25-26c330c27536",
   "metadata": {},
   "outputs": [],
   "source": [
    "x_train = np.array([[0,0],[0,1],[1,0],[1,1]])"
   ]
  },
  {
   "cell_type": "code",
   "execution_count": null,
   "id": "da7e5ea4-21cf-4eba-ba44-de609c18dfcc",
   "metadata": {},
   "outputs": [],
   "source": [
    "y_train = np.array([0,0,0,1])"
   ]
  },
  {
   "cell_type": "code",
   "execution_count": null,
   "id": "c0c1520f-52e6-494d-8ec0-d51075521655",
   "metadata": {},
   "outputs": [],
   "source": [
    "Weights = np.array([1, 1])\n",
    "bias = -1"
   ]
  },
  {
   "cell_type": "code",
   "execution_count": null,
   "id": "c5fc4419-d3ba-47ec-be8d-b0f5cbf563a0",
   "metadata": {},
   "outputs": [],
   "source": [
    "def step_function(x):\n",
    "    if x >= 1:\n",
    "        return 1\n",
    "    return 0"
   ]
  },
  {
   "cell_type": "code",
   "execution_count": null,
   "id": "b3a8ce6f-e55c-4cf9-ae13-a1442b4e53df",
   "metadata": {},
   "outputs": [],
   "source": [
    "def twoinputs_and_perceptron_step(X, y, w, b, learning_rate):\n",
    "    for i in range(len(X)):\n",
    "        y_output = step_function(np.matmul(X[i],w)+b)\n",
    "        difference = y[i]-y_output\n",
    "        if difference == 1:\n",
    "            w[0] += X[i][0]*learning_rate\n",
    "            w[1] += X[i][1]*learning_rate\n",
    "            b = round(b+learning_rate,2)\n",
    "        if difference == -1:\n",
    "            w[0] -= X[i][0]*learning_rate\n",
    "            w[1] -= X[i][1]*learning_rate\n",
    "            b = round(b-learning_rate,2)\n",
    "\n",
    "    return w, b\n",
    "            "
   ]
  },
  {
   "cell_type": "code",
   "execution_count": null,
   "id": "cd489bbc-711b-4a20-9c1f-616a91f0df83",
   "metadata": {},
   "outputs": [],
   "source": [
    "def train_model(x_train, y_train, learning_rate = 0.01, num_ephos = 25):\n",
    "    np.random.seed(10)\n",
    "    W = np.array(np.round(np.random.rand(2,1),2))\n",
    "    b = np.round(np.random.rand(1)[0],2)\n",
    "\n",
    "    for i in range(num_ephos):\n",
    "        Weights, bias = twoinputs_and_perceptron_step(x_train, y_train, W, b, learning_rate)\n",
    "        \n",
    "    \n",
    "    "
   ]
  },
  {
   "cell_type": "code",
   "execution_count": null,
   "id": "353e5111-19ff-4aae-9758-fbfa7ae840f2",
   "metadata": {},
   "outputs": [],
   "source": [
    "train_model(x_train, y_train)"
   ]
  },
  {
   "cell_type": "code",
   "execution_count": null,
   "id": "9fd2aef9-46c0-40b0-b8bf-f8d87b1df22e",
   "metadata": {},
   "outputs": [],
   "source": [
    "def test_model(x, w, b):\n",
    "    return step_function(np.matmul(x,w)+b)"
   ]
  },
  {
   "cell_type": "code",
   "execution_count": null,
   "id": "d4337efe-559f-431d-82f8-d0049f7b8b79",
   "metadata": {},
   "outputs": [],
   "source": [
    "x_test = np.array([[0,0],[0,1],[1,0],[1,1]])\n",
    "y_test = np.array([0,0,0,1])\n",
    "\n",
    "\n",
    "for i in range(len(x_test)):\n",
    "    print(test_model(x_test[i],Weights, bias))\n"
   ]
  },
  {
   "cell_type": "code",
   "execution_count": null,
   "id": "b8e34075-ce90-47ba-b582-ed3442527c78",
   "metadata": {},
   "outputs": [],
   "source": []
  }
 ],
 "metadata": {
  "kernelspec": {
   "display_name": "Python 3 (ipykernel)",
   "language": "python",
   "name": "python3"
  },
  "language_info": {
   "codemirror_mode": {
    "name": "ipython",
    "version": 3
   },
   "file_extension": ".py",
   "mimetype": "text/x-python",
   "name": "python",
   "nbconvert_exporter": "python",
   "pygments_lexer": "ipython3",
   "version": "3.12.4"
  }
 },
 "nbformat": 4,
 "nbformat_minor": 5
}
