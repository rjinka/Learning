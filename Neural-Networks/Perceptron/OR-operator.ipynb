{
 "cells": [
  {
   "cell_type": "code",
   "execution_count": 1,
   "id": "72a47abc-a8a8-420a-916a-1784ea6de27c",
   "metadata": {},
   "outputs": [
    {
     "name": "stdout",
     "output_type": "stream",
     "text": [
      "Note: you may need to restart the kernel to use updated packages.Requirement already satisfied: numpy in c:\\users\\jinka\\anaconda3\\lib\\site-packages (1.26.4)\n",
      "\n"
     ]
    },
    {
     "name": "stderr",
     "output_type": "stream",
     "text": [
      "WARNING: Ignoring invalid distribution ~ympy (C:\\Users\\jinka\\anaconda3\\Lib\\site-packages)\n",
      "WARNING: Ignoring invalid distribution ~ympy (C:\\Users\\jinka\\anaconda3\\Lib\\site-packages)\n",
      "WARNING: Ignoring invalid distribution ~ympy (C:\\Users\\jinka\\anaconda3\\Lib\\site-packages)\n",
      "\n",
      "[notice] A new release of pip is available: 25.1.1 -> 25.2\n",
      "[notice] To update, run: python.exe -m pip install --upgrade pip\n",
      "WARNING: Ignoring invalid distribution ~ympy (C:\\Users\\jinka\\anaconda3\\Lib\\site-packages)\n",
      "WARNING: Ignoring invalid distribution ~ympy (C:\\Users\\jinka\\anaconda3\\Lib\\site-packages)\n",
      "WARNING: Ignoring invalid distribution ~ympy (C:\\Users\\jinka\\anaconda3\\Lib\\site-packages)\n",
      "\n",
      "[notice] A new release of pip is available: 25.1.1 -> 25.2\n",
      "[notice] To update, run: python.exe -m pip install --upgrade pip\n"
     ]
    },
    {
     "name": "stdout",
     "output_type": "stream",
     "text": [
      "Requirement already satisfied: tensorflow in c:\\users\\jinka\\anaconda3\\lib\\site-packages (2.20.0)\n",
      "Requirement already satisfied: absl-py>=1.0.0 in c:\\users\\jinka\\anaconda3\\lib\\site-packages (from tensorflow) (2.1.0)\n",
      "Requirement already satisfied: astunparse>=1.6.0 in c:\\users\\jinka\\anaconda3\\lib\\site-packages (from tensorflow) (1.6.3)\n",
      "Requirement already satisfied: flatbuffers>=24.3.25 in c:\\users\\jinka\\anaconda3\\lib\\site-packages (from tensorflow) (24.3.25)\n",
      "Requirement already satisfied: gast!=0.5.0,!=0.5.1,!=0.5.2,>=0.2.1 in c:\\users\\jinka\\anaconda3\\lib\\site-packages (from tensorflow) (0.6.0)\n",
      "Requirement already satisfied: google_pasta>=0.1.1 in c:\\users\\jinka\\anaconda3\\lib\\site-packages (from tensorflow) (0.2.0)\n",
      "Requirement already satisfied: libclang>=13.0.0 in c:\\users\\jinka\\anaconda3\\lib\\site-packages (from tensorflow) (18.1.1)\n",
      "Requirement already satisfied: opt_einsum>=2.3.2 in c:\\users\\jinka\\anaconda3\\lib\\site-packages (from tensorflow) (3.3.0)\n",
      "Requirement already satisfied: packaging in c:\\users\\jinka\\anaconda3\\lib\\site-packages (from tensorflow) (25.0)\n",
      "Requirement already satisfied: protobuf>=5.28.0 in c:\\users\\jinka\\anaconda3\\lib\\site-packages (from tensorflow) (5.29.3)\n",
      "Requirement already satisfied: requests<3,>=2.21.0 in c:\\users\\jinka\\anaconda3\\lib\\site-packages (from tensorflow) (2.32.4)\n",
      "Requirement already satisfied: setuptools in c:\\users\\jinka\\anaconda3\\lib\\site-packages (from tensorflow) (78.1.1)\n",
      "Requirement already satisfied: six>=1.12.0 in c:\\users\\jinka\\anaconda3\\lib\\site-packages (from tensorflow) (1.17.0)\n",
      "Requirement already satisfied: termcolor>=1.1.0 in c:\\users\\jinka\\anaconda3\\lib\\site-packages (from tensorflow) (2.1.0)\n",
      "Requirement already satisfied: typing_extensions>=3.6.6 in c:\\users\\jinka\\anaconda3\\lib\\site-packages (from tensorflow) (4.12.2)\n",
      "Requirement already satisfied: wrapt>=1.11.0 in c:\\users\\jinka\\anaconda3\\lib\\site-packages (from tensorflow) (1.17.0)\n",
      "Requirement already satisfied: grpcio<2.0,>=1.24.3 in c:\\users\\jinka\\anaconda3\\lib\\site-packages (from tensorflow) (1.71.0)\n",
      "Requirement already satisfied: tensorboard~=2.20.0 in c:\\users\\jinka\\anaconda3\\lib\\site-packages (from tensorflow) (2.20.0)\n",
      "Requirement already satisfied: keras>=3.10.0 in c:\\users\\jinka\\anaconda3\\lib\\site-packages (from tensorflow) (3.11.2)\n",
      "Requirement already satisfied: numpy>=1.26.0 in c:\\users\\jinka\\anaconda3\\lib\\site-packages (from tensorflow) (1.26.4)\n",
      "Requirement already satisfied: h5py>=3.11.0 in c:\\users\\jinka\\anaconda3\\lib\\site-packages (from tensorflow) (3.14.0)\n",
      "Requirement already satisfied: ml_dtypes<1.0.0,>=0.5.1 in c:\\users\\jinka\\anaconda3\\lib\\site-packages (from tensorflow) (0.5.1)\n",
      "Requirement already satisfied: charset_normalizer<4,>=2 in c:\\users\\jinka\\anaconda3\\lib\\site-packages (from requests<3,>=2.21.0->tensorflow) (3.3.2)\n",
      "Requirement already satisfied: idna<4,>=2.5 in c:\\users\\jinka\\anaconda3\\lib\\site-packages (from requests<3,>=2.21.0->tensorflow) (3.7)\n",
      "Requirement already satisfied: urllib3<3,>=1.21.1 in c:\\users\\jinka\\anaconda3\\lib\\site-packages (from requests<3,>=2.21.0->tensorflow) (2.5.0)\n",
      "Requirement already satisfied: certifi>=2017.4.17 in c:\\users\\jinka\\anaconda3\\lib\\site-packages (from requests<3,>=2.21.0->tensorflow) (2025.8.3)\n",
      "Requirement already satisfied: markdown>=2.6.8 in c:\\users\\jinka\\anaconda3\\lib\\site-packages (from tensorboard~=2.20.0->tensorflow) (3.8)\n",
      "Requirement already satisfied: pillow in c:\\users\\jinka\\anaconda3\\lib\\site-packages (from tensorboard~=2.20.0->tensorflow) (11.3.0)\n",
      "Requirement already satisfied: tensorboard-data-server<0.8.0,>=0.7.0 in c:\\users\\jinka\\anaconda3\\lib\\site-packages (from tensorboard~=2.20.0->tensorflow) (0.7.0)\n",
      "Requirement already satisfied: werkzeug>=1.0.1 in c:\\users\\jinka\\anaconda3\\lib\\site-packages (from tensorboard~=2.20.0->tensorflow) (3.1.3)\n",
      "Requirement already satisfied: wheel<1.0,>=0.23.0 in c:\\users\\jinka\\anaconda3\\lib\\site-packages (from astunparse>=1.6.0->tensorflow) (0.45.1)\n",
      "Requirement already satisfied: rich in c:\\users\\jinka\\anaconda3\\lib\\site-packages (from keras>=3.10.0->tensorflow) (13.9.4)\n",
      "Requirement already satisfied: namex in c:\\users\\jinka\\anaconda3\\lib\\site-packages (from keras>=3.10.0->tensorflow) (0.1.0)\n",
      "Requirement already satisfied: optree in c:\\users\\jinka\\anaconda3\\lib\\site-packages (from keras>=3.10.0->tensorflow) (0.14.1)\n",
      "Requirement already satisfied: MarkupSafe>=2.1.1 in c:\\users\\jinka\\anaconda3\\lib\\site-packages (from werkzeug>=1.0.1->tensorboard~=2.20.0->tensorflow) (3.0.2)\n",
      "Requirement already satisfied: markdown-it-py>=2.2.0 in c:\\users\\jinka\\anaconda3\\lib\\site-packages (from rich->keras>=3.10.0->tensorflow) (2.2.0)\n",
      "Requirement already satisfied: pygments<3.0.0,>=2.13.0 in c:\\users\\jinka\\anaconda3\\lib\\site-packages (from rich->keras>=3.10.0->tensorflow) (2.19.1)\n",
      "Requirement already satisfied: mdurl~=0.1 in c:\\users\\jinka\\anaconda3\\lib\\site-packages (from markdown-it-py>=2.2.0->rich->keras>=3.10.0->tensorflow) (0.1.0)\n",
      "Note: you may need to restart the kernel to use updated packages.\n"
     ]
    }
   ],
   "source": [
    "%pip install numpy\n",
    "%pip install tensorflow\n",
    "\n",
    "import numpy as np\n",
    "import tensorflow as tf"
   ]
  },
  {
   "cell_type": "code",
   "execution_count": 2,
   "id": "49a19f45-1035-41b6-8e68-77b323740465",
   "metadata": {},
   "outputs": [],
   "source": [
    "# OR operator truth table\n",
    "training_set = np.array([[0,0,0],[0,1,1], [1,0,1], [1,1,1]])"
   ]
  },
  {
   "cell_type": "code",
   "execution_count": 3,
   "id": "6c08a78b-7ea2-4b58-90cb-1ce01a6932e1",
   "metadata": {},
   "outputs": [],
   "source": [
    "testing_set = np.array([[0,0,0],[0,1,0], [1,0,0], [1,1,1]])"
   ]
  },
  {
   "cell_type": "code",
   "execution_count": 4,
   "id": "ba1195de-3f9e-4110-90ec-d8908f1f4ec1",
   "metadata": {},
   "outputs": [],
   "source": [
    "x_train = np.array([[0,0],[0,1],[1,0],[1,1]])"
   ]
  },
  {
   "cell_type": "code",
   "execution_count": 5,
   "id": "d5474513-13a5-491c-b995-64b556d39534",
   "metadata": {},
   "outputs": [],
   "source": [
    "y_train = np.array([0,1,1,1])"
   ]
  },
  {
   "cell_type": "code",
   "execution_count": 17,
   "id": "7c81187d-9ce3-4e3f-974d-df76f5126782",
   "metadata": {},
   "outputs": [],
   "source": [
    "Weights = np.array([1, 1])\n",
    "bias = -1"
   ]
  },
  {
   "cell_type": "code",
   "execution_count": 38,
   "id": "68330475-b015-4339-90df-70e050f105af",
   "metadata": {},
   "outputs": [],
   "source": [
    "def step_function(x):\n",
    "    if x >= 0:\n",
    "        return 1\n",
    "    return 0"
   ]
  },
  {
   "cell_type": "code",
   "execution_count": 39,
   "id": "66c356ff-2664-453c-ae88-75b01010c308",
   "metadata": {},
   "outputs": [],
   "source": [
    "def twoinputs_or_perceptron_step(X, y, w, b, learning_rate):\n",
    "    for i in range(len(X)):\n",
    "        y_output = step_function(np.matmul(X[i],w)+b)\n",
    "        difference = y[i]-y_output\n",
    "        if difference == 1:\n",
    "            w[0] += X[i][0]*learning_rate\n",
    "            w[1] += X[i][1]*learning_rate\n",
    "            b = round(b+learning_rate,2)\n",
    "        if difference == -1:\n",
    "            w[0] -= X[i][0]*learning_rate\n",
    "            w[1] -= X[i][1]*learning_rate\n",
    "            b = round(b-learning_rate,2)\n",
    "\n",
    "    return w, b"
   ]
  },
  {
   "cell_type": "code",
   "execution_count": 40,
   "id": "eb2975d9-31e8-4f94-9d00-4ff16859529b",
   "metadata": {},
   "outputs": [],
   "source": [
    "def train_model(x_train, y_train, learning_rate = 0.01, num_ephos = 25):\n",
    "    np.random.seed(10)\n",
    "    W = np.array(np.round(np.random.rand(2,1),2))\n",
    "    b = np.round(np.random.rand(1)[0],2)\n",
    "\n",
    "    for i in range(num_ephos):\n",
    "        Weights, bias = twoinputs_or_perceptron_step(x_train, y_train, W, b, learning_rate)"
   ]
  },
  {
   "cell_type": "code",
   "execution_count": 41,
   "id": "5ed67036-8f11-4890-8152-4222a6b4034c",
   "metadata": {},
   "outputs": [],
   "source": [
    "train_model(x_train, y_train)"
   ]
  },
  {
   "cell_type": "code",
   "execution_count": 42,
   "id": "c8b37d6f-e0c1-40c4-927d-02398de1ae69",
   "metadata": {},
   "outputs": [],
   "source": [
    "def test_model(x, w, b):\n",
    "    return step_function(np.matmul(x,w)+b)"
   ]
  },
  {
   "cell_type": "code",
   "execution_count": 43,
   "id": "e93f72fa-2102-4544-8eb4-c8be01f65357",
   "metadata": {},
   "outputs": [
    {
     "name": "stdout",
     "output_type": "stream",
     "text": [
      "0\n",
      "1\n",
      "1\n",
      "1\n"
     ]
    }
   ],
   "source": [
    "x_test = np.array([[0,0],[0,1],[1,0],[1,1]])\n",
    "y_test = np.array([0,1,1,1])\n",
    "\n",
    "\n",
    "for i in range(len(x_test)):\n",
    "    print(test_model(x_test[i],Weights, bias))"
   ]
  },
  {
   "cell_type": "code",
   "execution_count": null,
   "id": "715b3b31-facf-471e-8acc-f8705fd3608f",
   "metadata": {},
   "outputs": [],
   "source": []
  }
 ],
 "metadata": {
  "kernelspec": {
   "display_name": "Python 3 (ipykernel)",
   "language": "python",
   "name": "python3"
  },
  "language_info": {
   "codemirror_mode": {
    "name": "ipython",
    "version": 3
   },
   "file_extension": ".py",
   "mimetype": "text/x-python",
   "name": "python",
   "nbconvert_exporter": "python",
   "pygments_lexer": "ipython3",
   "version": "3.12.4"
  }
 },
 "nbformat": 4,
 "nbformat_minor": 5
}
